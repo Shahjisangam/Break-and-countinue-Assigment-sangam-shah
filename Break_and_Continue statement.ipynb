{
 "cells": [
  {
   "cell_type": "code",
   "execution_count": 2,
   "id": "63c5be3f-331d-4fa2-9e50-07b5ab89ef88",
   "metadata": {},
   "outputs": [],
   "source": [
    "# Ques No. 01. Write a program to print numbers from  to 0, but stop if the number is 5."
   ]
  },
  {
   "cell_type": "code",
   "execution_count": 3,
   "id": "8788386b-9633-40fc-a6c6-0c05d52f0f4d",
   "metadata": {},
   "outputs": [
    {
     "name": "stdout",
     "output_type": "stream",
     "text": [
      "10\n",
      "9\n",
      "8\n",
      "7\n",
      "6\n",
      "5\n"
     ]
    }
   ],
   "source": [
    "# Initialize the starting number\n",
    "number = 10\n",
    "\n",
    "# Print numbers from 10 to 0, stopping if the number is 5\n",
    "while number >= 0:\n",
    "    print(number)\n",
    "    if number == 5:\n",
    "        break  # Stop the loop if the number is 5\n",
    "    number -= 1\n"
   ]
  },
  {
   "cell_type": "markdown",
   "id": "dac98fb3-42da-4495-948f-700bba85eaf7",
   "metadata": {},
   "source": [
    "In this code:\n",
    "\n",
    "i initialize the starting number number to 10.\n",
    "The while loop continues as long as number is greater than or equal to 0.\n",
    "Inside the loop, we print the current value of number.\n",
    "We check if the current value of number is equal to 5. If it is, we use the break statement to exit the loop.\n",
    "If the condition is not met, i decrement the value of number by 1 in each iteration of the loop."
   ]
  },
  {
   "cell_type": "code",
   "execution_count": 4,
   "id": "5e1f5826-6a25-4cb7-a70e-2a2bef74aeb0",
   "metadata": {},
   "outputs": [],
   "source": [
    "# Ques.No. 02. Write a program to iterate through a list and stop when encountering a specific element."
   ]
  },
  {
   "cell_type": "code",
   "execution_count": 5,
   "id": "d422d5b8-ff60-48e5-a5b0-73f7811f6a9d",
   "metadata": {},
   "outputs": [
    {
     "name": "stdout",
     "output_type": "stream",
     "text": [
      "1\n",
      "2\n",
      "3\n",
      "4\n",
      "5\n"
     ]
    }
   ],
   "source": [
    "# Define the list\n",
    "my_list = [1, 2, 3, 4, 5, 6, 7, 8, 9, 10]\n",
    "\n",
    "# Define the specific element to stop at\n",
    "stop_element = 5\n",
    "\n",
    "# Iterate through the list and stop when encountering the specific element\n",
    "for element in my_list:\n",
    "    print(element)\n",
    "    if element == stop_element:\n",
    "        break\n"
   ]
  },
  {
   "cell_type": "markdown",
   "id": "7d5a1f58-750e-42ab-ab38-b3860f26e347",
   "metadata": {},
   "source": [
    "In this code:\n",
    "\n",
    "We define a list my_list containing some elements.\n",
    "We define the specific element stop_element at which we want to stop iterating.\n",
    "We use a for loop to iterate through each element in my_list.\n",
    "Inside the loop, we print each element.\n",
    "We check if the current element is equal to stop_element. If it is, we use the break statement to exit the loop."
   ]
  },
  {
   "cell_type": "code",
   "execution_count": 6,
   "id": "010c80f0-46e8-41c4-b3a3-4813b044eb83",
   "metadata": {},
   "outputs": [],
   "source": [
    "# Ques.No. 03. Write a program to skip printing even numbers from 1to 0."
   ]
  },
  {
   "cell_type": "code",
   "execution_count": 7,
   "id": "e8b62d37-bb5f-4f94-acf5-b0fda20e1cab",
   "metadata": {},
   "outputs": [
    {
     "name": "stdout",
     "output_type": "stream",
     "text": [
      "1\n",
      "3\n",
      "5\n",
      "7\n",
      "9\n"
     ]
    }
   ],
   "source": [
    "# Define the range of numbers\n",
    "start = 1\n",
    "end = 10\n",
    "\n",
    "# Print numbers from 1 to 10, skipping even numbers\n",
    "for number in range(start, end + 1):\n",
    "    if number % 2 != 0:  # Check if the number is odd\n",
    "        print(number)\n"
   ]
  },
  {
   "cell_type": "markdown",
   "id": "f47b4908-89b1-4513-952e-951345923f99",
   "metadata": {},
   "source": [
    "In this code:\n",
    "\n",
    "We define the range of numbers from 1 to 10 using the range() function.\n",
    "We iterate through each number in the range using a for loop.\n",
    "Inside the loop, we check if the current number is odd by using the modulo operator % to check if it's not divisible by 2.\n",
    "If the current number is odd, we print it. Otherwise, we skip printing it."
   ]
  },
  {
   "cell_type": "code",
   "execution_count": 8,
   "id": "8daed313-3171-41af-ae59-bc39ddd06bad",
   "metadata": {},
   "outputs": [],
   "source": [
    "# Ques No. 04. Write a program to print numbers from 0 to 9 using range()."
   ]
  },
  {
   "cell_type": "code",
   "execution_count": 9,
   "id": "1e20134d-6204-4422-9d82-1cee1d14583e",
   "metadata": {},
   "outputs": [
    {
     "name": "stdout",
     "output_type": "stream",
     "text": [
      "0\n",
      "1\n",
      "2\n",
      "3\n",
      "4\n",
      "5\n",
      "6\n",
      "7\n",
      "8\n",
      "9\n"
     ]
    }
   ],
   "source": [
    "# Print numbers from 0 to 9 using range()\n",
    "for number in range(10):\n",
    "    print(number)\n"
   ]
  },
  {
   "cell_type": "markdown",
   "id": "c86831c0-e712-47d0-9ebf-aa11c0a9132c",
   "metadata": {},
   "source": [
    "In this code:\n",
    "\n",
    "We use the range(10) function to generate numbers from 0 to 9.\n",
    "We iterate over each number in the range using a for loop.\n",
    "Inside the loop, we print each number.\n",
    "\n",
    "\n",
    "\n",
    "\n",
    "\n"
   ]
  },
  {
   "cell_type": "code",
   "execution_count": 10,
   "id": "724d32cb-d3e7-4948-b815-873bfc3b43b5",
   "metadata": {},
   "outputs": [],
   "source": [
    "# Ques No. 05. Write a program to print multiplication tables from  to 5, but stop after the first table is printed for each\n",
    "# number."
   ]
  },
  {
   "cell_type": "code",
   "execution_count": 11,
   "id": "2bc2f49c-2c2b-4ecc-9ebf-95cfcf7c7872",
   "metadata": {},
   "outputs": [
    {
     "name": "stdout",
     "output_type": "stream",
     "text": [
      "Multiplication table for 1:\n",
      "1 * 1 = 1\n",
      "1 * 2 = 2\n",
      "1 * 3 = 3\n",
      "1 * 4 = 4\n",
      "1 * 5 = 5\n",
      "1 * 6 = 6\n",
      "1 * 7 = 7\n",
      "1 * 8 = 8\n",
      "1 * 9 = 9\n",
      "1 * 10 = 10\n",
      "\n",
      "Multiplication table for 2:\n",
      "2 * 1 = 2\n",
      "2 * 2 = 4\n",
      "2 * 3 = 6\n",
      "2 * 4 = 8\n",
      "2 * 5 = 10\n",
      "2 * 6 = 12\n",
      "2 * 7 = 14\n",
      "2 * 8 = 16\n",
      "2 * 9 = 18\n",
      "2 * 10 = 20\n",
      "\n",
      "Multiplication table for 3:\n",
      "3 * 1 = 3\n",
      "3 * 2 = 6\n",
      "3 * 3 = 9\n",
      "3 * 4 = 12\n",
      "3 * 5 = 15\n",
      "3 * 6 = 18\n",
      "3 * 7 = 21\n",
      "3 * 8 = 24\n",
      "3 * 9 = 27\n",
      "3 * 10 = 30\n",
      "\n",
      "Multiplication table for 4:\n",
      "4 * 1 = 4\n",
      "4 * 2 = 8\n",
      "4 * 3 = 12\n",
      "4 * 4 = 16\n",
      "4 * 5 = 20\n",
      "4 * 6 = 24\n",
      "4 * 7 = 28\n",
      "4 * 8 = 32\n",
      "4 * 9 = 36\n",
      "4 * 10 = 40\n",
      "\n",
      "Multiplication table for 5:\n",
      "5 * 1 = 5\n",
      "5 * 2 = 10\n",
      "5 * 3 = 15\n",
      "5 * 4 = 20\n",
      "5 * 5 = 25\n",
      "5 * 6 = 30\n",
      "5 * 7 = 35\n",
      "5 * 8 = 40\n",
      "5 * 9 = 45\n",
      "5 * 10 = 50\n",
      "\n"
     ]
    }
   ],
   "source": [
    "# Define the range of numbers\n",
    "start = 1\n",
    "end = 5\n",
    "\n",
    "# Print multiplication tables from 1 to 5, stopping after the first table for each number\n",
    "for i in range(start, end + 1):\n",
    "    print(f\"Multiplication table for {i}:\")\n",
    "    for j in range(1, 11):\n",
    "        print(f\"{i} * {j} = {i * j}\")\n",
    "    print()  # Print an empty line after each table\n"
   ]
  },
  {
   "cell_type": "markdown",
   "id": "3897f086-b2c7-429c-bd82-c2982950b82f",
   "metadata": {},
   "source": [
    "In this code:\n",
    "\n",
    "We use nested loops to iterate over each number from 1 to 5 and each multiple from 1 to 10.\n",
    "After printing the multiplication table for each number, we print an empty line to separate the tables."
   ]
  },
  {
   "cell_type": "code",
   "execution_count": 12,
   "id": "4a0420e7-bf38-4776-af82-e42d9dbd96a1",
   "metadata": {},
   "outputs": [],
   "source": [
    "# Ques No. 06. Write a program to skip printing even numbers using a while loop."
   ]
  },
  {
   "cell_type": "code",
   "execution_count": 13,
   "id": "55b76c75-0a8e-489f-9f4f-1ab06df99e98",
   "metadata": {},
   "outputs": [
    {
     "name": "stdout",
     "output_type": "stream",
     "text": [
      "1\n",
      "3\n",
      "5\n",
      "7\n",
      "9\n"
     ]
    }
   ],
   "source": [
    "# Initialize the starting number\n",
    "number = 1\n",
    "\n",
    "# Print odd numbers using a while loop\n",
    "while number <= 10:\n",
    "    print(number)\n",
    "    number += 2\n"
   ]
  },
  {
   "cell_type": "markdown",
   "id": "215f8f3f-37e5-4058-863d-e568680af436",
   "metadata": {},
   "source": [
    "In this code:\n",
    "\n",
    "We initialize the starting number number to 1.\n",
    "The while loop continues as long as number is less than or equal to 10.\n",
    "Inside the loop, we print the current value of number.\n",
    "We increment the value of number by 2 in each iteration of the loop. Since we start with an odd number (1), adding 2 in each iteration ensures that we only print odd numbers."
   ]
  }
 ],
 "metadata": {
  "kernelspec": {
   "display_name": "Python 3 (ipykernel)",
   "language": "python",
   "name": "python3"
  },
  "language_info": {
   "codemirror_mode": {
    "name": "ipython",
    "version": 3
   },
   "file_extension": ".py",
   "mimetype": "text/x-python",
   "name": "python",
   "nbconvert_exporter": "python",
   "pygments_lexer": "ipython3",
   "version": "3.10.8"
  }
 },
 "nbformat": 4,
 "nbformat_minor": 5
}
